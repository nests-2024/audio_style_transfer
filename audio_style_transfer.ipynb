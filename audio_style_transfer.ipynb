{
 "cells": [
  {
   "cell_type": "markdown",
   "metadata": {
    "id": "4OJ10ZxITgll"
   },
   "source": [
    "# Introduction\n",
    "\n",
    "A recently published method [1] for audio style transfer has shown how to extend the process of image style transfer to audio. This method synthesizes audio \"content\" and \"style\" independently using the magnitudes of a short time Fourier transform, shallow convolutional networks with randomly initialized filters, and iterative phase reconstruction with Griffin-Lim. In this work [2], we explore whether it is possible to directly optimize a time domain audio signal, removing the process of phase reconstruction and opening up possibilities for real-time applications and higher quality syntheses. We explore a variety of style transfer processes on neural networks that operate directly on time domain audio signals and demonstrate one such network capable of audio stylization."
   ]
  },
  {
   "cell_type": "code",
   "execution_count": null,
   "metadata": {
    "id": "FxywfcpCU--d"
   },
   "outputs": [],
   "source": [
    "import numpy as np\n",
    "import librosa\n",
    "import warnings\n",
    "\n",
    "from librosa.display import specshow\n",
    "from IPython.display import Audio, display\n",
    "from audio_style_transfer.models import timedomain, uylanov\n",
    "\n",
    "warnings.filterwarnings('ignore')\n",
    "warnings.simplefilter('ignore')"
   ]
  },
  {
   "cell_type": "code",
   "execution_count": null,
   "metadata": {},
   "outputs": [],
   "source": [
    "from tensorflow.python.client import device_lib\n",
    "print(device_lib.list_local_devices())"
   ]
  },
  {
   "cell_type": "code",
   "execution_count": null,
   "metadata": {
    "id": "SEMmbEKThQYZ"
   },
   "outputs": [],
   "source": [
    "def plot_spec(audio):\n",
    "  D = librosa.amplitude_to_db(librosa.stft(audio), ref=np.max)\n",
    "  specshow(D)"
   ]
  },
  {
   "cell_type": "code",
   "execution_count": null,
   "metadata": {
    "colab": {
     "base_uri": "https://localhost:8080/",
     "height": 308
    },
    "id": "8B6ODhDPZr-o",
    "outputId": "e45670be-6c0c-4dd2-bcb1-b374ee531658"
   },
   "outputs": [],
   "source": [
    "sr = 44100\n",
    "content = './wavs/corpus/johntejada-1.wav'\n",
    "style = './wavs/target/beat-box-2.wav'\n",
    "\n",
    "#content = \"./wavs/songs/imperial.mp3\"\n",
    "#style = \"./wavs/songs/usa.mp3\""
   ]
  },
  {
   "cell_type": "code",
   "execution_count": null,
   "metadata": {},
   "outputs": [],
   "source": [
    "style_audio, _ = librosa.core.load(style, sr=sr)\n",
    "plot_spec(style_audio)\n",
    "display(Audio(style_audio, rate=sr))"
   ]
  },
  {
   "cell_type": "code",
   "execution_count": null,
   "metadata": {
    "colab": {
     "base_uri": "https://localhost:8080/",
     "height": 75
    },
    "id": "w_ZQ3yYFhhOS",
    "outputId": "1550b07e-9fd7-4706-84ff-6bd7c4f7e354"
   },
   "outputs": [],
   "source": [
    "content_audio, _ = librosa.core.load(content, sr=sr)\n",
    "plot_spec(content_audio)\n",
    "display(Audio(content_audio, rate=sr))"
   ]
  },
  {
   "cell_type": "code",
   "execution_count": null,
   "metadata": {
    "colab": {
     "base_uri": "https://localhost:8080/"
    },
    "id": "aEH0RfPbasnP",
    "outputId": "f39c6e79-8ee5-4db3-8fd3-b1c690e53294"
   },
   "outputs": [],
   "source": [
    "timedomain.run(\n",
    "    content,\n",
    "    style,\n",
    "    'timedomain_out.wav',\n",
    "    n_fft=2048,          # 512 to sr / 2. Higher is better quality but is slower.\n",
    "    n_layers=1,          # 1 to 3. Higher is better quality but is slower.\n",
    "    n_filters=4096,      # 512 - 4096. Higher is better quality but is slower.\n",
    "    hop_length=256,      # 256 to n_fft / 2. The lower this value, the better the temporal resolution.\n",
    "    alpha=0.0005,        # 0.0001 to 0.01. The higher this value, the more of the original \"content\" bleeds through.\n",
    "    k_w=3,               # 3 to 5. The higher this value, the more complex the patterns it can synthesize.\n",
    "    iterations=200,      # 100 to 1000. Higher is better quality but is slower.\n",
    "    stride=1,            # 1 to 3. Lower is better quality but is slower.\n",
    "    sr=sr,\n",
    ")"
   ]
  },
  {
   "cell_type": "code",
   "execution_count": null,
   "metadata": {
    "colab": {
     "base_uri": "https://localhost:8080/",
     "height": 308
    },
    "id": "N63HtjGRbrZn",
    "outputId": "ccef3040-e08a-40ae-fe0a-e666a183e8dc"
   },
   "outputs": [],
   "source": [
    "synth_audio, _ = librosa.core.load('timedomain_out.wav', sr=sr)\n",
    "plot_spec(synth_audio)\n",
    "display(Audio(synth_audio, rate=sr))"
   ]
  },
  {
   "cell_type": "code",
   "execution_count": null,
   "metadata": {},
   "outputs": [],
   "source": [
    "uylanov.run(\n",
    "    content,\n",
    "    style,\n",
    "    'uly_out.wav',\n",
    "    alpha=0.001,\n",
    "    iterations=300,\n",
    "    phase_iterations=300,\n",
    "    sr=sr,\n",
    ")"
   ]
  },
  {
   "cell_type": "code",
   "execution_count": null,
   "metadata": {},
   "outputs": [],
   "source": [
    "synth_audio, _ = librosa.core.load('uly_out.wav', sr=sr)\n",
    "plot_spec(synth_audio)\n",
    "display(Audio(synth_audio, rate=sr))"
   ]
  },
  {
   "cell_type": "code",
   "execution_count": null,
   "metadata": {},
   "outputs": [],
   "source": []
  }
 ],
 "metadata": {
  "accelerator": "GPU",
  "colab": {
   "provenance": []
  },
  "kernelspec": {
   "display_name": "Python 3 (ipykernel)",
   "language": "python",
   "name": "python3"
  },
  "language_info": {
   "codemirror_mode": {
    "name": "ipython",
    "version": 3
   },
   "file_extension": ".py",
   "mimetype": "text/x-python",
   "name": "python",
   "nbconvert_exporter": "python",
   "pygments_lexer": "ipython3",
   "version": "3.7.12"
  }
 },
 "nbformat": 4,
 "nbformat_minor": 1
}
