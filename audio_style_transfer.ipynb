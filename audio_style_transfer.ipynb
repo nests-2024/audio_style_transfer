{
 "cells": [
  {
   "cell_type": "markdown",
   "metadata": {
    "id": "4OJ10ZxITgll"
   },
   "source": [
    "### Introduction\n",
    "\n",
    "https://github.com/pkmital/time-domain-neural-audio-style-transfer"
   ]
  },
  {
   "cell_type": "code",
   "execution_count": null,
   "metadata": {
    "id": "FxywfcpCU--d"
   },
   "outputs": [],
   "source": [
    "import numpy as np\n",
    "import librosa\n",
    "import warnings\n",
    "\n",
    "from IPython.display import Audio, display\n",
    "from models import timedomain, ulyanov\n",
    "\n",
    "warnings.filterwarnings('ignore')\n",
    "warnings.simplefilter('ignore')"
   ]
  },
  {
   "cell_type": "code",
   "execution_count": null,
   "metadata": {},
   "outputs": [],
   "source": [
    "from tensorflow.python.client import device_lib\n",
    "print(device_lib.list_local_devices())"
   ]
  },
  {
   "cell_type": "code",
   "execution_count": null,
   "metadata": {
    "id": "SEMmbEKThQYZ"
   },
   "outputs": [],
   "source": [
    "def plot_spec(audio):\n",
    "  D = librosa.amplitude_to_db(librosa.stft(audio), ref=np.max)\n",
    "  librosa.display.specshow(D)"
   ]
  },
  {
   "cell_type": "code",
   "execution_count": null,
   "metadata": {
    "colab": {
     "base_uri": "https://localhost:8080/",
     "height": 308
    },
    "id": "8B6ODhDPZr-o",
    "outputId": "e45670be-6c0c-4dd2-bcb1-b374ee531658"
   },
   "outputs": [],
   "source": [
    "sr = 44100\n",
    "content = './wavs/corpus/johntejada-1.wav'\n",
    "style = './wavs/target/beat-box-2.wav'\n",
    "\n",
    "#content = \"./wavs/songs/imperial.mp3\"\n",
    "#style = \"./wavs/songs/usa.mp3\""
   ]
  },
  {
   "cell_type": "code",
   "execution_count": null,
   "metadata": {},
   "outputs": [],
   "source": [
    "style_audio, _ = librosa.core.load(style, sr=sr)\n",
    "plot_spec(style_audio)\n",
    "display(Audio(style_audio, rate=sr))"
   ]
  },
  {
   "cell_type": "code",
   "execution_count": null,
   "metadata": {
    "colab": {
     "base_uri": "https://localhost:8080/",
     "height": 75
    },
    "id": "w_ZQ3yYFhhOS",
    "outputId": "1550b07e-9fd7-4706-84ff-6bd7c4f7e354"
   },
   "outputs": [],
   "source": [
    "content_audio, _ = librosa.core.load(content, sr=sr)\n",
    "plot_spec(content_audio)\n",
    "display(Audio(content_audio, rate=sr))"
   ]
  },
  {
   "cell_type": "code",
   "execution_count": null,
   "metadata": {
    "colab": {
     "base_uri": "https://localhost:8080/"
    },
    "id": "aEH0RfPbasnP",
    "outputId": "f39c6e79-8ee5-4db3-8fd3-b1c690e53294"
   },
   "outputs": [],
   "source": [
    "synth_sr, synth_audio = timedomain.run(\n",
    "    content,\n",
    "    style,\n",
    "    output_fname='outs/timedomain_out.wav',\n",
    "    n_fft=2048,          # 512 to sr / 2. Higher is better quality but is slower.\n",
    "    n_layers=1,          # 1 to 3. Higher is better quality but is slower.\n",
    "    n_filters=4096,      # 512 - 4096. Higher is better quality but is slower.\n",
    "    hop_length=256,      # 256 to n_fft / 2. The lower this value, the better the temporal resolution.\n",
    "    alpha=0.0005,        # 0.0001 to 0.01. The higher this value, the more of the original \"content\" bleeds through.\n",
    "    k_w=3,               # 3 to 5. The higher this value, the more complex the patterns it can synthesize.\n",
    "    iterations=300,      # 100 to 1000. Higher is better quality but is slower.\n",
    "    stride=1,            # 1 to 3. Lower is better quality but is slower.\n",
    "    sr=sr,\n",
    ")"
   ]
  },
  {
   "cell_type": "code",
   "execution_count": null,
   "metadata": {},
   "outputs": [],
   "source": [
    "plot_spec(synth_audio)\n",
    "display(Audio(synth_audio, rate=synth_sr))"
   ]
  },
  {
   "cell_type": "code",
   "execution_count": null,
   "metadata": {},
   "outputs": [],
   "source": [
    "synth_sr, synth_audio = ulyanov.run(\n",
    "    content,\n",
    "    style,\n",
    "    output_fname='outs/uly_out.wav',\n",
    "    alpha=0.001,\n",
    "    iterations=128,\n",
    "    phase_iterations=256,\n",
    "    sr=sr,\n",
    ")"
   ]
  },
  {
   "cell_type": "code",
   "execution_count": null,
   "metadata": {},
   "outputs": [],
   "source": [
    "plot_spec(synth_audio)\n",
    "display(Audio(synth_audio, rate=synth_sr))"
   ]
  },
  {
   "cell_type": "code",
   "execution_count": null,
   "metadata": {},
   "outputs": [],
   "source": []
  }
 ],
 "metadata": {
  "accelerator": "GPU",
  "colab": {
   "provenance": []
  },
  "kernelspec": {
   "display_name": "Python 3 (ipykernel)",
   "language": "python",
   "name": "python3"
  },
  "language_info": {
   "codemirror_mode": {
    "name": "ipython",
    "version": 3
   },
   "file_extension": ".py",
   "mimetype": "text/x-python",
   "name": "python",
   "nbconvert_exporter": "python",
   "pygments_lexer": "ipython3",
   "version": "3.7.12"
  }
 },
 "nbformat": 4,
 "nbformat_minor": 1
}
